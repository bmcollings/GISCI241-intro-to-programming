{
 "cells": [
  {
   "cell_type": "markdown",
   "metadata": {},
   "source": [
    "# Functions\n",
    "\n",
    "> ## Objectives\n",
    "> - what is a function?\n",
    "> - creating an addition function\n",
    "> - What is Geopandas\n",
    "> - Creating a function with Geopandas"
   ]
  },
  {
   "cell_type": "code",
   "execution_count": null,
   "metadata": {},
   "outputs": [],
   "source": [
    "# define some variables for addition\n",
    "a = 4\n",
    "b = 8\n",
    "\n",
    "c = a + b \n",
    "\n",
    "# define addition function\n",
    "def add(input_a, input_b):\n",
    "    c = input_a + input_b\n",
    "    return c"
   ]
  },
  {
   "cell_type": "code",
   "execution_count": null,
   "metadata": {},
   "outputs": [],
   "source": []
  },
  {
   "cell_type": "markdown",
   "metadata": {},
   "source": [
    "## Geopandas"
   ]
  },
  {
   "cell_type": "code",
   "execution_count": null,
   "metadata": {},
   "outputs": [],
   "source": [
    "# import the geopandas library\n",
    "import geopandas as gpd\n",
    "\n",
    "\n",
    "world = 'shapefiles/world.gpkg'\n",
    "\n",
    "world_gdf = gpd.read_file(world)\n",
    "\n",
    "world_gdf.head()\n",
    "\n",
    "world_gdf.plot(column='pop_est')\n"
   ]
  },
  {
   "cell_type": "code",
   "execution_count": null,
   "metadata": {},
   "outputs": [],
   "source": []
  },
  {
   "cell_type": "markdown",
   "metadata": {},
   "source": [
    "## Creating a function with Geopandas"
   ]
  },
  {
   "cell_type": "code",
   "execution_count": null,
   "metadata": {},
   "outputs": [],
   "source": [
    "# define a function to return country from world_shapefile dataset and save it as a shapefile\n",
    "def return_country(world_shapefile, country_name, country_shapefile): \n",
    "    \n",
    "    # read the world shapefile as a geodataframe\n",
    "    world_gdf = gpd.read_file(world_shapefile)\n",
    "\n",
    "    # return the country that is equal to the country_name parameter\n",
    "    country = world_gdf[world_gdf['name'] == country_name]\n",
    "    \n",
    "    # add the country to a new geodataframe and write it to a new shapefile using the country_shapefile parameter\n",
    "    country_gdf = gpd.GeoDataFrame(country)\n",
    "    return country_gdf.to_file(country_shapefile)\n",
    "\n",
    "\n",
    "# call return_country with world shapefile and return new Zealand as a shapefile\n",
    "return_country('shapefiles/world.gpkg', 'New Zealand', 'shapefiles/new_zealand.gpkg')\n",
    "\n",
    "\n"
   ]
  },
  {
   "cell_type": "code",
   "execution_count": null,
   "metadata": {},
   "outputs": [],
   "source": []
  },
  {
   "cell_type": "code",
   "execution_count": null,
   "metadata": {},
   "outputs": [],
   "source": [
    "# read country shapefile as a geopandas dataframe\n",
    "country = gpd.read_file('new_zealand.gpkg')\n",
    "\n",
    "# plot New Zealand to check output\n",
    "country.plot(column='pop_est')"
   ]
  },
  {
   "cell_type": "code",
   "execution_count": null,
   "metadata": {},
   "outputs": [],
   "source": []
  },
  {
   "cell_type": "code",
   "execution_count": null,
   "metadata": {},
   "outputs": [],
   "source": []
  }
 ],
 "metadata": {
  "interpreter": {
   "hash": "dcc9d62381dd83c6a603623cec7aeb39b0b26dae9863b9c32d410fc00861cd85"
  },
  "kernelspec": {
   "display_name": "Python 3.10.6 ('bruun_rule_calc')",
   "language": "python",
   "name": "python3"
  },
  "language_info": {
   "codemirror_mode": {
    "name": "ipython",
    "version": 3
   },
   "file_extension": ".py",
   "mimetype": "text/x-python",
   "name": "python",
   "nbconvert_exporter": "python",
   "pygments_lexer": "ipython3",
   "version": "3.10.6"
  },
  "orig_nbformat": 4
 },
 "nbformat": 4,
 "nbformat_minor": 2
}
