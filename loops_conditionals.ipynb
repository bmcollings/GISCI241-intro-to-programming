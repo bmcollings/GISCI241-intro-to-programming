{
 "cells": [
  {
   "cell_type": "markdown",
   "metadata": {},
   "source": [
    "# Loops and conditionals\n",
    "\n",
    "> ## Objectives\n",
    "> \n",
    "> - Loops\n",
    "> - indents\n",
    "> - if statments\n",
    "> - if else \n",
    "> - escape characters\n",
    "> - while loops"
   ]
  },
  {
   "cell_type": "markdown",
   "metadata": {},
   "source": [
    "## Loops"
   ]
  },
  {
   "cell_type": "code",
   "execution_count": null,
   "metadata": {},
   "outputs": [],
   "source": [
    "# define a list of integers\n",
    "a_list = [1,2,3,4,5,6,7,8,9,10]\n",
    "\n",
    "# create a loop to print numbers\n",
    "for num in a_list:\n",
    "    print(num)\n"
   ]
  },
  {
   "cell_type": "code",
   "execution_count": null,
   "metadata": {},
   "outputs": [],
   "source": []
  },
  {
   "cell_type": "markdown",
   "metadata": {},
   "source": [
    "## Conditions"
   ]
  },
  {
   "cell_type": "code",
   "execution_count": null,
   "metadata": {},
   "outputs": [],
   "source": [
    "# create loop to print numbers less than 5 in list\n",
    "for num in a_list:\n",
    "    if num < 5:\n",
    "        print(str(num) + ' is less than 5')\n",
    "\n",
    "# print numbers greater than 5 in list\n",
    "for num in a_list: \n",
    "    if num > 5:\n",
    "        print(str(num) + ' is more than 5')\n",
    "\n",
    "# print numbers greater than five and less than 8\n",
    "for num in a_list: \n",
    "    if num > 5 and num < 8:\n",
    "        print(str(num) + ' is between 5 and 8')\n",
    "\n",
    "# What if we to meet a series of conditions? \n",
    "\n",
    "# find out if numbers in list are less than 5 or between 5 and 8\n",
    "for num in a_list:\n",
    "    if num < 5:\n",
    "        print(str(num) + ' is less than 5')\n",
    "    elif num > 5 and num < 8:\n",
    "        print(str(num) + ' is between 5 and 8')\n",
    "    else:\n",
    "        print('no conditions met, must be 5 or 8 and greater')\n"
   ]
  },
  {
   "cell_type": "code",
   "execution_count": null,
   "metadata": {},
   "outputs": [],
   "source": []
  },
  {
   "cell_type": "markdown",
   "metadata": {},
   "source": [
    "## While loops"
   ]
  },
  {
   "cell_type": "code",
   "execution_count": null,
   "metadata": {},
   "outputs": [],
   "source": [
    "# while loop\n",
    "a = 0\n",
    "b = 5\n",
    "\n",
    "while a < 5:\n",
    "    print('a='+'a'+' and is less than '+ b)\n",
    "    a = a+1\n"
   ]
  },
  {
   "cell_type": "code",
   "execution_count": null,
   "metadata": {},
   "outputs": [],
   "source": []
  }
 ],
 "metadata": {
  "interpreter": {
   "hash": "dcc9d62381dd83c6a603623cec7aeb39b0b26dae9863b9c32d410fc00861cd85"
  },
  "kernelspec": {
   "display_name": "Python 3.10.6 ('bruun_rule_calc')",
   "language": "python",
   "name": "python3"
  },
  "language_info": {
   "codemirror_mode": {
    "name": "ipython",
    "version": 3
   },
   "file_extension": ".py",
   "mimetype": "text/x-python",
   "name": "python",
   "nbconvert_exporter": "python",
   "pygments_lexer": "ipython3",
   "version": "3.10.6"
  },
  "orig_nbformat": 4
 },
 "nbformat": 4,
 "nbformat_minor": 2
}
