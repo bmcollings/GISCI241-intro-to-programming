{
 "cells": [
  {
   "cell_type": "markdown",
   "metadata": {},
   "source": [
    "# Python Variables\n",
    "\n",
    "> ## Objectives\n",
    ">\n",
    "> - Using Jupyter notebooks\n",
    "> - Python variables:\n",
    ">   - Integers\n",
    ">   - Floats\n",
    ">   - Characters\n",
    ">   - Strings\n",
    ">   - lists\n",
    ">   - Dictionaries\n",
    "> - Assigning and calling variables\n",
    "> - Indexing\n",
    "\n",
    "\n"
   ]
  },
  {
   "cell_type": "code",
   "execution_count": null,
   "metadata": {},
   "outputs": [],
   "source": [
    "# define an int variable\n",
    "a_int = 4\n",
    "\n",
    "# define a float variable\n",
    "a_float = 3.14\n",
    "\n",
    "# define a character variable\n",
    "a_character = 'h'\n",
    "\n",
    "# define a string\n",
    "a_string = 'Hello GISCI241'\n",
    "\n",
    "# define a list\n",
    "a_list = [1,2,3,4,5]\n",
    "\n",
    "# define a dict\n",
    "a_dict = {'data_type': 'Subway'}\n",
    "\n",
    "# define sub variables \n",
    "a_dict_subvars = {'restaurant': 'Subway', 'type': 'subs','menu':['pork riblet', 'ham cheese', 'tuna steak']}"
   ]
  },
  {
   "cell_type": "markdown",
   "metadata": {},
   "source": [
    "## Calling and assigning variables "
   ]
  },
  {
   "cell_type": "code",
   "execution_count": 7,
   "metadata": {},
   "outputs": [],
   "source": [
    "# assign a variable\n",
    "\n",
    "\n",
    "# call a\n",
    "\n",
    "\n",
    "# assign a a new value\n",
    "\n",
    "\n",
    "\n",
    "# call a\n",
    "\n",
    "\n",
    "\n",
    "# check type of a\n",
    "\n"
   ]
  },
  {
   "cell_type": "markdown",
   "metadata": {},
   "source": [
    "## Floats "
   ]
  },
  {
   "cell_type": "code",
   "execution_count": null,
   "metadata": {},
   "outputs": [],
   "source": [
    "# call a_float\n",
    "a_float\n",
    "\n",
    "\n",
    "# check type of a_float\n",
    "\n",
    "\n",
    "\n",
    "\n",
    "\n"
   ]
  },
  {
   "cell_type": "markdown",
   "metadata": {},
   "source": [
    "## Characters, strings and indexing"
   ]
  },
  {
   "cell_type": "code",
   "execution_count": null,
   "metadata": {},
   "outputs": [],
   "source": [
    "# define a character \n",
    "\n",
    "\n",
    "\n",
    "# define a string\n",
    "\n",
    "\n",
    "\n",
    "# index a string\n",
    "\n",
    "\n"
   ]
  },
  {
   "cell_type": "markdown",
   "metadata": {},
   "source": [
    "## Lists"
   ]
  },
  {
   "cell_type": "code",
   "execution_count": null,
   "metadata": {},
   "outputs": [],
   "source": [
    "# define a list\n",
    "\n",
    "\n",
    "#  Indexing a list"
   ]
  },
  {
   "cell_type": "markdown",
   "metadata": {},
   "source": [
    "## Dictionaries"
   ]
  },
  {
   "cell_type": "code",
   "execution_count": null,
   "metadata": {},
   "outputs": [],
   "source": [
    "# call a_dict\n",
    "\n",
    "\n",
    "# call the value\n",
    "\n",
    "\n",
    "# call a_dict_subvars\n"
   ]
  },
  {
   "cell_type": "markdown",
   "metadata": {},
   "source": [
    "## 2D arrays/nested lists"
   ]
  },
  {
   "cell_type": "code",
   "execution_count": null,
   "metadata": {},
   "outputs": [],
   "source": [
    "# define a 2d array"
   ]
  }
 ],
 "metadata": {
  "interpreter": {
   "hash": "eb83f5e65a8836b320b4fc983696e0508c06acb1c46f6ac7be393a7de5f29696"
  },
  "kernelspec": {
   "display_name": "Python 3.9.12 64-bit",
   "language": "python",
   "name": "python3"
  },
  "language_info": {
   "codemirror_mode": {
    "name": "ipython",
    "version": 3
   },
   "file_extension": ".py",
   "mimetype": "text/x-python",
   "name": "python",
   "nbconvert_exporter": "python",
   "pygments_lexer": "ipython3",
   "version": "3.10.6"
  },
  "orig_nbformat": 4
 },
 "nbformat": 4,
 "nbformat_minor": 2
}
